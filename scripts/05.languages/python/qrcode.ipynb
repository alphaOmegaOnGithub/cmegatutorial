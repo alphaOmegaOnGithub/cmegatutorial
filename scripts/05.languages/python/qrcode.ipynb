{
 "cells": [
  {
   "cell_type": "code",
   "execution_count": 1,
   "id": "b0b6b0c5",
   "metadata": {},
   "outputs": [
    {
     "name": "stdout",
     "output_type": "stream",
     "text": [
      "Collecting qrcode[pil]\n",
      "  Downloading qrcode-7.4.2-py3-none-any.whl (46 kB)\n",
      "     ---------------------------------------- 46.2/46.2 kB 2.2 MB/s eta 0:00:00\n",
      "Collecting pypng\n",
      "  Downloading pypng-0.20220715.0-py3-none-any.whl (58 kB)\n",
      "     ---------------------------------------- 58.1/58.1 kB ? eta 0:00:00\n",
      "Requirement already satisfied: colorama in c:\\opt\\miniconda3\\envs\\snakes\\lib\\site-packages (from qrcode[pil]) (0.4.5)\n",
      "Requirement already satisfied: typing-extensions in c:\\opt\\miniconda3\\envs\\snakes\\lib\\site-packages (from qrcode[pil]) (4.4.0)\n",
      "Requirement already satisfied: pillow>=9.1.0 in c:\\opt\\miniconda3\\envs\\snakes\\lib\\site-packages (from qrcode[pil]) (9.3.0)\n",
      "Installing collected packages: pypng, qrcode\n",
      "Successfully installed pypng-0.20220715.0 qrcode-7.4.2\n",
      "Note: you may need to restart the kernel to use updated packages.\n"
     ]
    }
   ],
   "source": [
    "pip install \"qrcode[pil]\"\n"
   ]
  },
  {
   "cell_type": "code",
   "execution_count": 4,
   "id": "dd9cbf82",
   "metadata": {},
   "outputs": [],
   "source": [
    "import qrcode\n",
    "qr = qrcode.QRCode(\n",
    "    version=1,\n",
    "    error_correction=qrcode.constants.ERROR_CORRECT_L,\n",
    "    box_size=10,\n",
    "    border=4,\n",
    ")\n",
    "qr.add_data('Some data')\n",
    "qr.make(fit=True)\n",
    "\n",
    "img = qr.make_image(fill_color=\"black\", back_color=\"white\")\n"
   ]
  },
  {
   "cell_type": "code",
   "execution_count": 7,
   "id": "6df5c0b0",
   "metadata": {},
   "outputs": [
    {
     "ename": "NameError",
     "evalue": "name 'method' is not defined",
     "output_type": "error",
     "traceback": [
      "\u001b[1;31m---------------------------------------------------------------------------\u001b[0m",
      "\u001b[1;31mNameError\u001b[0m                                 Traceback (most recent call last)",
      "Cell \u001b[1;32mIn[7], line 4\u001b[0m\n\u001b[0;32m      1\u001b[0m \u001b[38;5;28;01mimport\u001b[39;00m \u001b[38;5;21;01mqrcode\u001b[39;00m\n\u001b[0;32m      2\u001b[0m \u001b[38;5;28;01mimport\u001b[39;00m \u001b[38;5;21;01mqrcode\u001b[39;00m\u001b[38;5;21;01m.\u001b[39;00m\u001b[38;5;21;01mimage\u001b[39;00m\u001b[38;5;21;01m.\u001b[39;00m\u001b[38;5;21;01msvg\u001b[39;00m\n\u001b[1;32m----> 4\u001b[0m \u001b[38;5;28;01mif\u001b[39;00m \u001b[43mmethod\u001b[49m \u001b[38;5;241m==\u001b[39m \u001b[38;5;124m'\u001b[39m\u001b[38;5;124mbasic\u001b[39m\u001b[38;5;124m'\u001b[39m:\n\u001b[0;32m      5\u001b[0m     \u001b[38;5;66;03m# Simple factory, just a set of rects.\u001b[39;00m\n\u001b[0;32m      6\u001b[0m     factory \u001b[38;5;241m=\u001b[39m qrcode\u001b[38;5;241m.\u001b[39mimage\u001b[38;5;241m.\u001b[39msvg\u001b[38;5;241m.\u001b[39mSvgImage\n\u001b[0;32m      7\u001b[0m \u001b[38;5;28;01melif\u001b[39;00m method \u001b[38;5;241m==\u001b[39m \u001b[38;5;124m'\u001b[39m\u001b[38;5;124mfragment\u001b[39m\u001b[38;5;124m'\u001b[39m:\n\u001b[0;32m      8\u001b[0m     \u001b[38;5;66;03m# Fragment factory (also just a set of rects)\u001b[39;00m\n",
      "\u001b[1;31mNameError\u001b[0m: name 'method' is not defined"
     ]
    }
   ],
   "source": [
    "import qrcode\n",
    "import qrcode.image.svg\n",
    "\n",
    "if method == 'basic':\n",
    "    # Simple factory, just a set of rects.\n",
    "    factory = qrcode.image.svg.SvgImage\n",
    "elif method == 'fragment':\n",
    "    # Fragment factory (also just a set of rects)\n",
    "    factory = qrcode.image.svg.SvgFragmentImage\n",
    "else:\n",
    "    # Combined path factory, fixes white space that may occur when zooming\n",
    "    factory = qrcode.image.svg.SvgPathImage\n",
    "\n",
    "img = qrcode.make('Some data here', image_factory=factory)"
   ]
  },
  {
   "cell_type": "code",
   "execution_count": 22,
   "id": "3406c432",
   "metadata": {},
   "outputs": [],
   "source": [
    "import qrcode\n",
    "from qrcode.image.styledpil import StyledPilImage\n",
    "from qrcode.image.styles.moduledrawers.pil import RoundedModuleDrawer\n",
    "from qrcode.image.styles.colormasks import RadialGradiantColorMask\n",
    "\n",
    "qr = qrcode.QRCode(error_correction=qrcode.constants.ERROR_CORRECT_L)\n",
    "qr.add_data('Some data')\n",
    "\n",
    "img_1 = qr.make_image(image_factory=StyledPilImage, module_drawer=RoundedModuleDrawer())\n",
    "img_2 = qr.make_image(image_factory=StyledPilImage, color_mask=RadialGradiantColorMask())\n",
    "img_3 = qr.make_image(image_factory=StyledPilImage)"
   ]
  },
  {
   "cell_type": "code",
   "execution_count": 18,
   "id": "cf827990",
   "metadata": {},
   "outputs": [],
   "source": [
    "import qrcode\n",
    "img = qrcode.make('Some data here')\n",
    "type(img)  # qrcode.image.pil.PilImage\n",
    "img.save(\"some_file.png\")"
   ]
  },
  {
   "cell_type": "code",
   "execution_count": null,
   "id": "3a0ed358",
   "metadata": {},
   "outputs": [],
   "source": [
    " "
   ]
  }
 ],
 "metadata": {
  "kernelspec": {
   "display_name": "Python 3 (ipykernel)",
   "language": "python",
   "name": "python3"
  },
  "language_info": {
   "codemirror_mode": {
    "name": "ipython",
    "version": 3
   },
   "file_extension": ".py",
   "mimetype": "text/x-python",
   "name": "python",
   "nbconvert_exporter": "python",
   "pygments_lexer": "ipython3",
   "version": "3.9.15"
  }
 },
 "nbformat": 4,
 "nbformat_minor": 5
}
